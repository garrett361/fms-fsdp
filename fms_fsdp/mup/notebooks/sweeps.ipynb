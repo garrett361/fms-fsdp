{
 "cells": [
  {
   "cell_type": "code",
   "execution_count": 27,
   "id": "bffa0adf-0ee5-460f-89f2-930829972ad1",
   "metadata": {},
   "outputs": [],
   "source": [
    "import wandb\n",
    "import pandas as pd\n",
    "import matplotlib.pyplot as plt\n",
    "import seaborn as sns\n",
    "from copy import deepcopy\n",
    "from tqdm.notebook import tqdm"
   ]
  },
  {
   "cell_type": "code",
   "execution_count": 28,
   "id": "56bb7292-7bf4-49b3-981d-1f6adceb5d50",
   "metadata": {},
   "outputs": [],
   "source": [
    "api = wandb.Api()"
   ]
  },
  {
   "cell_type": "code",
   "execution_count": 59,
   "id": "de8de496-e0e5-487b-b610-0ffae2693085",
   "metadata": {},
   "outputs": [],
   "source": [
    "sweep_ids = (\"6snt47r7\",)\n",
    "sweeps = [api.sweep(f\"project-avengers/goon-test/sweeps/{sweep_id}\") for sweep_id in sweep_ids]"
   ]
  },
  {
   "cell_type": "code",
   "execution_count": null,
   "id": "b692e732-b7b9-4b64-ac72-93c1611485ce",
   "metadata": {},
   "outputs": [
    {
     "data": {
      "application/vnd.jupyter.widget-view+json": {
       "model_id": "7e6f0a8789e346aba9fdd6a1f5cb0a99",
       "version_major": 2,
       "version_minor": 0
      },
      "text/plain": [
       "  0%|          | 0/132 [00:00<?, ?it/s]"
      ]
     },
     "metadata": {},
     "output_type": "display_data"
    }
   ],
   "source": [
    "results = []\n",
    "for s in sweeps:\n",
    "    runs = s.runs\n",
    "    for r in tqdm(runs):\n",
    "        if r.state == \"finished\":\n",
    "            config = deepcopy(r.config)\n",
    "            last_loss =[x for x in r.scan_history(min_step=config[\"num_steps\"], keys=[\"loss\"])]\n",
    "            assert len(last_loss) == 1\n",
    "            config[\"loss\"] = last_loss[0][\"loss\"]\n",
    "            results.append(config)"
   ]
  },
  {
   "cell_type": "code",
   "execution_count": null,
   "id": "c2f89194-e34e-4b63-b2cf-f496a2d53aac",
   "metadata": {},
   "outputs": [],
   "source": [
    "results_df = pd.DataFrame(results)\n",
    "results_df"
   ]
  },
  {
   "cell_type": "code",
   "execution_count": null,
   "id": "48c5e24b-4851-4399-8f7f-021c3f976ffd",
   "metadata": {},
   "outputs": [],
   "source": [
    "non_nan_results_df = results_df[results_df.loss != \"NaN\"]\n",
    "print(f\"Removed {len(results_df) - len(non_nan_results_df)} NaNs\")"
   ]
  },
  {
   "cell_type": "code",
   "execution_count": null,
   "id": "5a9ef047-fd37-4969-aa04-90c9ec094353",
   "metadata": {},
   "outputs": [],
   "source": [
    "fig, axs = plt.subplots(                                                  \n",
    " ncols=2, nrows=1, sharey=True, sharex=True, figsize=(6 * 2, 4 ) \n",
    ")                                                                         \n",
    "mup_plot =sns.lineplot(data=non_nan_results_df[non_nan_results_df.mup], x=\"learning_rate\", y=\"loss\", hue=\"d_model\", ax=axs[0])\n",
    "axs[0].set_title(\"mup\")\n",
    "no_mup_plot = sns.lineplot(data=non_nan_results_df[~non_nan_results_df.mup], x=\"learning_rate\", y=\"loss\", hue=\"d_model\", ax=axs[1])\n",
    "axs[1].set_title(\"sp\")\n",
    "mup_plot.set(xscale=\"log\")\n",
    "mup_plot.set(yscale=\"log\")\n",
    "no_mup_plot.set(xscale=\"log\")\n",
    "no_mup_plot.set(yscale=\"log\")\n",
    "\n",
    "suptitle = f'n_layer-{config[\"n_layer\"]}_seq_length-{config[\"seq_length\"]}_head_dim-{config[\"head_dim\"]}_num_steps-{config[\"num_steps\"]}_batch_size-{config[\"batch_size\"]}_acc_steps-{config[\"acc_steps\"]}_optim-{config[\"optim\"]}'\n",
    "\n",
    "fig.suptitle(suptitle)\n",
    "fig.subplots_adjust(top=0.8)\n",
    "fig.savefig(suptitle + \".png\", dpi=256, bbox_inches=\"tight\")"
   ]
  },
  {
   "cell_type": "code",
   "execution_count": null,
   "id": "6b39ea87-651d-453f-9136-d2a2d6082c77",
   "metadata": {},
   "outputs": [],
   "source": []
  },
  {
   "cell_type": "code",
   "execution_count": null,
   "id": "3eec58a4-c4e3-473f-9905-3d38eadd98e8",
   "metadata": {},
   "outputs": [],
   "source": []
  },
  {
   "cell_type": "code",
   "execution_count": null,
   "id": "9a2abae3-3c88-4256-86f8-8be0357f441a",
   "metadata": {},
   "outputs": [],
   "source": []
  },
  {
   "cell_type": "code",
   "execution_count": null,
   "id": "34ce6482-16a3-4548-89ed-d5b7732299d2",
   "metadata": {},
   "outputs": [],
   "source": []
  },
  {
   "cell_type": "code",
   "execution_count": null,
   "id": "2eaac2ba-f41e-40a7-b25d-0615476e2ce4",
   "metadata": {},
   "outputs": [],
   "source": []
  }
 ],
 "metadata": {
  "kernelspec": {
   "display_name": "Python 3 (ipykernel)",
   "language": "python",
   "name": "python3"
  },
  "language_info": {
   "codemirror_mode": {
    "name": "ipython",
    "version": 3
   },
   "file_extension": ".py",
   "mimetype": "text/x-python",
   "name": "python",
   "nbconvert_exporter": "python",
   "pygments_lexer": "ipython3",
   "version": "3.9.20"
  }
 },
 "nbformat": 4,
 "nbformat_minor": 5
}
